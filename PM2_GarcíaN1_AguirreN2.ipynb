{
 "cells": [
  {
   "cell_type": "markdown",
   "metadata": {},
   "source": [
    "## Simulación Monty-Hall\n",
    "Integrante 1: Juan Enrique Aguirre López\n",
    "\n",
    "Integrante 2: Pablo García Bedoy Fernández "
   ]
  },
  {
   "cell_type": "markdown",
   "metadata": {},
   "source": [
    "# Objetivos\n",
    "\n",
    "### Objetivo General\n",
    "* Modelar el problema de Monty-Hall\n",
    "\n",
    "### Objetivos específicos\n",
    "* Llegar a una conclusión de ver si, en realidad, es más exitosa la estrategia de cambiar de puerta que seguir con la misma puerta\n",
    "* Utilizar numeros aleatorios con el objetivo de simular un gran número de iteraciones, para obtener la probabilidad de éxito al cambiar de puerta o al mantener la misma"
   ]
  },
  {
   "cell_type": "markdown",
   "metadata": {},
   "source": [
    "## Modelo que representa el problema"
   ]
  },
  {
   "cell_type": "markdown",
   "metadata": {},
   "source": [
    "La situación es la siguiente, se tienen tres puertas y un concursante que puede ganar un premio (un coche). Se le pide al concursante escoger una de las tres puertas, ![](montyhall_3doors.png)\n",
    "\n",
    "al hacerlo, se descubre una de las puertas donde no hay premio. ![](montyhall_3doors4.png)\n",
    "\n",
    "En este momento se le pregunta al concursante si desea cambiar la elección de la puerta. La pregunta está en si es más probable conseguir el premio si cambia o no de puerta. \n",
    "\n",
    "![](montyhall_3doors2.png)\n",
    "\n",
    "Cambiar resulta ser la estrategia “más” ganadora, y la razón es la siguiente: Al escoger por primera vez se tiene una probabilidad de  1/3  de escoger la puerta correcta, y hay una probabilidad de  2/3  de no haberlo hecho, es decir, en las otras dos puertas que no fueron escogidas, hay un  2/3  de probabilidad de que en alguna de ellas está, por lo tanto, al descubrir una de estas, la probabilidad de  2/3  se mantiene pero ahora solo en una puerta, la cerrada que no fue escogida. \n",
    "\n",
    "![](montyhall_3doors3.png)\n",
    "\n",
    "Por lo tanto, es dos veces más probable de conseguir el premio si se cambia la elección inicial por la puerta cerrada restante."
   ]
  },
  {
   "cell_type": "markdown",
   "metadata": {},
   "source": [
    "## Solución del problema"
   ]
  },
  {
   "cell_type": "markdown",
   "metadata": {},
   "source": [
    "#### Primero presentaremos como sería la solución del problema realizandose \"N\" numero de iteraciones"
   ]
  },
  {
   "cell_type": "code",
   "execution_count": 6,
   "metadata": {
    "scrolled": false
   },
   "outputs": [
    {
     "name": "stdout",
     "output_type": "stream",
     "text": [
      "\n",
      "You switched doors...\n",
      "\n",
      "\n",
      "Your win rate was:  0.6593 \n",
      "\n",
      "1\n"
     ]
    }
   ],
   "source": [
    "import random\n",
    "\n",
    "success = 0\n",
    "switch = random.randint(0,1)\n",
    "\n",
    "N = 10000\n",
    "for i in range(N):\n",
    "    car = random.randint(0,2)\n",
    "    choice = random.randint(0,2)\n",
    "    door_to_reveal = random.randint(0,2)\n",
    "\n",
    "    while door_to_reveal == car or choice == door_to_reveal:\n",
    "        door_to_reveal = random.randint(0,2)\n",
    "\n",
    "    final_choice = 0\t\n",
    "    if switch == 1:\n",
    "        while final_choice == choice or final_choice == door_to_reveal:\n",
    "            final_choice += 1\n",
    "    else:\n",
    "        final_choice = choice\n",
    "\n",
    "    success += final_choice == car\n",
    "\n",
    "if switch == 1:\n",
    "\tprint(\"\\nYou switched doors...\\n\")\n",
    "else:\n",
    "\tprint(\"\\nYou did not switch doors...\\n\")\n",
    "print(\"\\nYour win rate was: \", float(success)/N, \"\\n\")\n",
    "\n",
    "print(switch)"
   ]
  },
  {
   "cell_type": "markdown",
   "metadata": {},
   "source": [
    "**Cada vez que se corra este programa nos dará las posibilidades de éxito (de sacarnos el carro) en base a la decisión de cambiar o no de puerta.**"
   ]
  },
  {
   "cell_type": "markdown",
   "metadata": {},
   "source": [
    "### A continuación, presentaremos estos resultados en una tabla para que sean más fácil de visualizar los resultados"
   ]
  },
  {
   "cell_type": "markdown",
   "metadata": {},
   "source": [
    "**Empezaremos con definir este programa como una función, una función en la que siempre se cambie de puerta (Monty_hall2(N)), y otra en la que se quede siempre con la misma puerta (Monty_hall(N)).**"
   ]
  },
  {
   "cell_type": "code",
   "execution_count": 7,
   "metadata": {},
   "outputs": [],
   "source": [
    "import random\n",
    "\n",
    "def Monty_hall(N):\n",
    "    switch = 0\n",
    "    success = 0\n",
    "    for i in range(N):\n",
    "        car = random.randint(0,2)\n",
    "        choice = random.randint(0,2)\n",
    "        door_to_reveal = random.randint(0,2)\n",
    "\n",
    "        while door_to_reveal == car or choice == door_to_reveal:\n",
    "            door_to_reveal = random.randint(0,2)\n",
    "\n",
    "        final_choice = 0\t\n",
    "        if switch == 1:\n",
    "            while final_choice == choice or final_choice == door_to_reveal:\n",
    "                final_choice += 1\n",
    "        else:\n",
    "            final_choice = choice\n",
    "\n",
    "        success += final_choice == car\n",
    "    return (float(success)/N)\n",
    "\n",
    "def Monty_hall2(N):\n",
    "    switch = 1\n",
    "    success = 0\n",
    "    for i in range(N):\n",
    "        car = random.randint(0,2)\n",
    "        choice = random.randint(0,2)\n",
    "        door_to_reveal = random.randint(0,2)\n",
    "\n",
    "        while door_to_reveal == car or choice == door_to_reveal:\n",
    "            door_to_reveal = random.randint(0,2)\n",
    "\n",
    "        final_choice = 0\t\n",
    "        if switch == 1:\n",
    "            while final_choice == choice or final_choice == door_to_reveal:\n",
    "                final_choice += 1\n",
    "        else:\n",
    "            final_choice = choice\n",
    "\n",
    "        success += final_choice == car\n",
    "    return (float(success)/N)"
   ]
  },
  {
   "cell_type": "markdown",
   "metadata": {},
   "source": [
    "**Una vez que ya establecimos las funciones para cuando cambias de puerta o para cuando te quedas con la misma, apreciaremos qué es lo que pasa cuando lo hacemos para pocos casos y qué es lo que sucede con la probabilidad cuando aumentamos el número de casos.**"
   ]
  },
  {
   "cell_type": "code",
   "execution_count": 10,
   "metadata": {},
   "outputs": [
    {
     "data": {
      "text/html": [
       "<div>\n",
       "<style scoped>\n",
       "    .dataframe tbody tr th:only-of-type {\n",
       "        vertical-align: middle;\n",
       "    }\n",
       "\n",
       "    .dataframe tbody tr th {\n",
       "        vertical-align: top;\n",
       "    }\n",
       "\n",
       "    .dataframe thead th {\n",
       "        text-align: right;\n",
       "    }\n",
       "</style>\n",
       "<table border=\"1\" class=\"dataframe\">\n",
       "  <thead>\n",
       "    <tr style=\"text-align: right;\">\n",
       "      <th></th>\n",
       "      <th>Probabilidad de éxito sin cambiar</th>\n",
       "      <th>Probabilidad de éxito con cambio</th>\n",
       "    </tr>\n",
       "  </thead>\n",
       "  <tbody>\n",
       "    <tr>\n",
       "      <th>10</th>\n",
       "      <td>0.40000</td>\n",
       "      <td>0.70000</td>\n",
       "    </tr>\n",
       "    <tr>\n",
       "      <th>100</th>\n",
       "      <td>0.32000</td>\n",
       "      <td>0.76000</td>\n",
       "    </tr>\n",
       "    <tr>\n",
       "      <th>1000</th>\n",
       "      <td>0.35800</td>\n",
       "      <td>0.68200</td>\n",
       "    </tr>\n",
       "    <tr>\n",
       "      <th>10000</th>\n",
       "      <td>0.33010</td>\n",
       "      <td>0.65970</td>\n",
       "    </tr>\n",
       "    <tr>\n",
       "      <th>100000</th>\n",
       "      <td>0.33258</td>\n",
       "      <td>0.66873</td>\n",
       "    </tr>\n",
       "  </tbody>\n",
       "</table>\n",
       "</div>"
      ],
      "text/plain": [
       "        Probabilidad de éxito sin cambiar  Probabilidad de éxito con cambio\n",
       "10                                0.40000                           0.70000\n",
       "100                               0.32000                           0.76000\n",
       "1000                              0.35800                           0.68200\n",
       "10000                             0.33010                           0.65970\n",
       "100000                            0.33258                           0.66873"
      ]
     },
     "execution_count": 10,
     "metadata": {},
     "output_type": "execute_result"
    }
   ],
   "source": [
    "import numpy as np\n",
    "import pandas as pd\n",
    "import sympy as sym\n",
    "sym.init_printing(use_latex='mathjax')\n",
    "\n",
    "\n",
    "N=np.logspace(1,5,5).astype(int)\n",
    "\n",
    "df= pd.DataFrame(index=N)\n",
    "\n",
    "for n in N:\n",
    "    df.loc[n,'Probabilidad de éxito sin cambiar'] = Monty_hall(n)\n",
    "    df.loc[n,'Probabilidad de éxito con cambio'] = Monty_hall2(n)\n",
    "df"
   ]
  },
  {
   "cell_type": "markdown",
   "metadata": {},
   "source": [
    "## Conclusiones\n",
    "\n",
    "En base a el código anterior, se pudo obtener las probababilidades de éxito que habíaal cambiar de puerta y al quedarnos con la misma puerta. Siendo los resultados obtenidos coherentes con los objetivos planteados y la literatura e investigación previa. Los resultados que obtuvimos, a través de realizar las aproximaciones con N número de casos aleatorios, fue que si decidias cambiar de puerta la probabilidad es $\\approx$ 66%. Mientras que si no cambias de puerta, es decir, te quedas con la misma la probabilidad es $\\approx$ 33%."
   ]
  },
  {
   "cell_type": "markdown",
   "metadata": {},
   "source": [
    "## Referencias\n",
    "\n",
    "Bartoldson, B. (2018). Monty_Hall_Simulation.py. Recuperado de https://github.com/bbartoldson/examples/blob/master/Monty%20Hall%20Simulation/Monty_Hall_Simulation.py\n",
    "\n",
    "\n",
    "S.A. (2015). Modeling the Monty Hall Problem with Python. Recuperado de http://code.jasonbhill.com/python/modeling-the-monty-hall-problem-with-python/"
   ]
  }
 ],
 "metadata": {
  "kernelspec": {
   "display_name": "Python 3",
   "language": "python",
   "name": "python3"
  },
  "language_info": {
   "codemirror_mode": {
    "name": "ipython",
    "version": 3
   },
   "file_extension": ".py",
   "mimetype": "text/x-python",
   "name": "python",
   "nbconvert_exporter": "python",
   "pygments_lexer": "ipython3",
   "version": "3.7.3"
  }
 },
 "nbformat": 4,
 "nbformat_minor": 2
}
