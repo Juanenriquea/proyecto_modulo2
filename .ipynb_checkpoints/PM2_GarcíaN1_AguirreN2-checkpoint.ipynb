{
 "cells": [
  {
   "cell_type": "markdown",
   "metadata": {},
   "source": [
    "## Simulación Monty-Hall"
   ]
  },
  {
   "cell_type": "markdown",
   "metadata": {},
   "source": [
    "# Objetivos\n",
    "\n",
    "### Objetivo General\n",
    "* Modelar el problema de Monty-Hall\n",
    "\n",
    "### Objetivos específicos\n",
    "* Llegar a una conclusión de ver si, en realidad, es más exitosa la estrategia de cambiar de puerta que seguir con la misma puerta\n",
    "* Utilizar numeros aleatorios para simular muchas iteraciones, para obtener la probabilidad de éxito al cambiar de puerta o al mantener la misma"
   ]
  },
  {
   "cell_type": "markdown",
   "metadata": {},
   "source": [
    "## Modelo que representa el problema"
   ]
  },
  {
   "cell_type": "code",
   "execution_count": null,
   "metadata": {},
   "outputs": [],
   "source": []
  },
  {
   "cell_type": "markdown",
   "metadata": {},
   "source": [
    "## Solución del problema"
   ]
  },
  {
   "cell_type": "code",
   "execution_count": 17,
   "metadata": {
    "scrolled": false
   },
   "outputs": [
    {
     "name": "stdout",
     "output_type": "stream",
     "text": [
      "\n",
      "Enter your strategy (0 for don't switch, 1 for switch):\n",
      "0\n",
      "\n",
      "You did not switch doors...\n",
      "\n",
      "\n",
      "Your win rate was:  0.3318 \n",
      "\n"
     ]
    }
   ],
   "source": [
    "import random\n",
    "\n",
    "success = 0\n",
    "switch = input(\"\\nEnter your strategy (0 for don't switch, 1 for switch):\\n\")\n",
    "\n",
    "N = 10000\n",
    "\n",
    "for i in range(N):\n",
    "\tcar = random.randint(0,2)\n",
    "\tchoice = random.randint(0,2)\n",
    "\tdoor_to_reveal = random.randint(0,2)\n",
    "\n",
    "\twhile door_to_reveal == car or choice == door_to_reveal:\n",
    "\t\tdoor_to_reveal = random.randint(0,2)\n",
    "\n",
    "\tfinal_choice = 0\t\n",
    "\tif switch == \"1\":\n",
    "\t\twhile final_choice == choice or final_choice == door_to_reveal:\n",
    "\t\t\tfinal_choice += 1\n",
    "\telse:\n",
    "\t\tfinal_choice = choice\n",
    "\n",
    "\tsuccess += final_choice == car\n",
    "\n",
    "if switch == \"1\":\n",
    "\tprint(\"\\nYou switched doors...\\n\")\n",
    "else:\n",
    "\tprint(\"\\nYou did not switch doors...\\n\")\n",
    "print(\"\\nYour win rate was: \", float(success)/N, \"\\n\")"
   ]
  },
  {
   "cell_type": "markdown",
   "metadata": {},
   "source": [
    "## Conclusiones\n",
    "\n",
    "En base a el código anterior, se pudo obtener las probababilidades de éxito que habíaal cambiar de puerta y al quedarnos con la misma puerta. Siendo los resultados obtenidos coherentes con los objetivos planteados y la literatura e investigación previa. Los resultados que obtuvimos, a través de realizar las aproximaciones con N número de casos aleatorios, fue que si decidias cambiar de puerta la probabilidad es $\\approx$ 66%. Mientras que si no cambias de puerta, es decir, te quedas con la misma la probabilidad es $\\approx$ 33%."
   ]
  },
  {
   "cell_type": "markdown",
   "metadata": {},
   "source": [
    "## Referencias\n",
    "\n",
    "Bartoldson, B. (2018). Monty_Hall_Simulation.py. Recuperado de https://github.com/bbartoldson/examples/blob/master/Monty%20Hall%20Simulation/Monty_Hall_Simulation.py\n",
    "http://code.jasonbhill.com/python/modeling-the-monty-hall-problem-with-python/"
   ]
  },
  {
   "cell_type": "code",
   "execution_count": null,
   "metadata": {},
   "outputs": [],
   "source": []
  }
 ],
 "metadata": {
  "kernelspec": {
   "display_name": "Python 3",
   "language": "python",
   "name": "python3"
  },
  "language_info": {
   "codemirror_mode": {
    "name": "ipython",
    "version": 3
   },
   "file_extension": ".py",
   "mimetype": "text/x-python",
   "name": "python",
   "nbconvert_exporter": "python",
   "pygments_lexer": "ipython3",
   "version": "3.7.3"
  }
 },
 "nbformat": 4,
 "nbformat_minor": 2
}
